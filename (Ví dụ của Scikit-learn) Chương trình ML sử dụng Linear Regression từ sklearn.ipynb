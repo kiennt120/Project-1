{
 "cells": [
  {
   "cell_type": "markdown",
   "id": "corresponding-suicide",
   "metadata": {},
   "source": [
    "# Import packages"
   ]
  },
  {
   "cell_type": "code",
   "execution_count": 1,
   "id": "first-triple",
   "metadata": {},
   "outputs": [],
   "source": [
    "import numpy as np\n",
    "from sklearn.linear_model import LinearRegression"
   ]
  },
  {
   "cell_type": "markdown",
   "id": "lined-cooler",
   "metadata": {},
   "source": [
    "# Input data"
   ]
  },
  {
   "cell_type": "code",
   "execution_count": 2,
   "id": "laughing-presence",
   "metadata": {},
   "outputs": [],
   "source": [
    "# height (cm), input data, each row is a data point\n",
    "X = np.array([[147, 150, 153, 158, 163, 165, 168, 170, 173, 175, 178, 180, 183]]).T\n",
    "# weight (kg)\n",
    "y = np.array([ 49, 50, 51, 54, 58, 59, 60, 62, 63, 64, 66, 67, 68])"
   ]
  },
  {
   "cell_type": "markdown",
   "id": "retired-delicious",
   "metadata": {},
   "source": [
    "# Tính các tham số"
   ]
  },
  {
   "cell_type": "code",
   "execution_count": 3,
   "id": "superior-horse",
   "metadata": {},
   "outputs": [
    {
     "name": "stdout",
     "output_type": "stream",
     "text": [
      "Scikit-learn solution: w[0] = -33.73541020580774 w[1] = 0.5592049619396674\n"
     ]
    }
   ],
   "source": [
    "regr = LinearRegression()\n",
    "regr.fit(X, y)\n",
    "print(\"Scikit-learn solution: w[0] =\", regr.intercept_, \"w[1] =\", regr.coef_[0])"
   ]
  },
  {
   "cell_type": "markdown",
   "id": "approximate-groove",
   "metadata": {},
   "source": [
    "# Dự đoán cân nặng của người có chiều cao 173.8 cm"
   ]
  },
  {
   "cell_type": "code",
   "execution_count": 4,
   "id": "buried-proposal",
   "metadata": {},
   "outputs": [
    {
     "name": "stdout",
     "output_type": "stream",
     "text": [
      "Chiều cao của người đó là: 63.45441217930646 kg\n"
     ]
    }
   ],
   "source": [
    "print(\"Chiều cao của người đó là:\", (regr.predict(np.array([173.8]).reshape(-1, 1)))[0], \"kg\")"
   ]
  },
  {
   "cell_type": "markdown",
   "id": "fluid-change",
   "metadata": {},
   "source": [
    "# Done"
   ]
  }
 ],
 "metadata": {
  "kernelspec": {
   "display_name": "Python 3",
   "language": "python",
   "name": "python3"
  },
  "language_info": {
   "codemirror_mode": {
    "name": "ipython",
    "version": 3
   },
   "file_extension": ".py",
   "mimetype": "text/x-python",
   "name": "python",
   "nbconvert_exporter": "python",
   "pygments_lexer": "ipython3",
   "version": "3.8.6"
  }
 },
 "nbformat": 4,
 "nbformat_minor": 5
}
