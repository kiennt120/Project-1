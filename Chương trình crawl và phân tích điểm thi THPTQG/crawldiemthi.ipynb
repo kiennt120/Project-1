{
 "cells": [
  {
   "cell_type": "markdown",
   "id": "auburn-scholar",
   "metadata": {
    "tags": []
   },
   "source": [
    "# Import packages"
   ]
  },
  {
   "cell_type": "code",
   "execution_count": 2,
   "id": "japanese-kitchen",
   "metadata": {},
   "outputs": [],
   "source": [
    "from selenium import webdriver\n",
    "from time import sleep\n",
    "from selenium.webdriver.common.keys import Keys\n",
    "from selenium.webdriver.common.by import By"
   ]
  },
  {
   "cell_type": "code",
   "execution_count": 3,
   "id": "complete-smooth",
   "metadata": {},
   "outputs": [],
   "source": [
    "# Mở trang web tra điểm thi\n",
    "driver = webdriver.Chrome(executable_path=\"chromedriver\")\n",
    "driver.get(\"https://tienphong.vn/tra-cuu-diem-thi.tpo\")\n",
    "\n",
    "# Mở file lưu dữ liệu điểm thi\n",
    "file = open(\"diemthiHP.csv\", \"a\")"
   ]
  },
  {
   "cell_type": "markdown",
   "id": "handy-internet",
   "metadata": {},
   "source": [
    "# Lấy điểm thi của thí sinh đầu tiên"
   ]
  },
  {
   "cell_type": "code",
   "execution_count": 7,
   "id": "governing-guidance",
   "metadata": {},
   "outputs": [
    {
     "name": "stdout",
     "output_type": "stream",
     "text": [
      "Số báo danh: 03000001\n",
      "Điểm thi:\n",
      "Toán: 8.4    Văn: 7.0    Anh: 7.2    Lý: 8.0    Hóa: 8.75    Sinh 4.25\n"
     ]
    }
   ],
   "source": [
    "Sbd = '03000001'\n",
    "txtSBD = driver.find_element(By.ID, \"txtkeyword\")\n",
    "txtSBD.send_keys(Sbd)\n",
    "txtSBD.send_keys(Keys.ENTER)\n",
    "sleep(0.25)\n",
    "point = driver.find_elements(By.CLASS_NAME, \"point\")\n",
    "sbd = point[1].text\n",
    "toan = point[2].text\n",
    "van = point[3].text\n",
    "ngoaingu = point[4].text\n",
    "ly = point[5].text\n",
    "hoa = point[6].text\n",
    "sinh = point[7].text\n",
    "su = point[8].text\n",
    "dia = point[9].text\n",
    "GDCD = point[10].text\n",
    "print('Số báo danh:', Sbd)\n",
    "print(\"Điểm thi:\")\n",
    "print('Toán:', toan, '   Văn:', van, '   Anh:', ngoaingu, '   Lý:', ly, '   Hóa:', hoa, '   Sinh', sinh)"
   ]
  },
  {
   "cell_type": "markdown",
   "id": "vanilla-investigation",
   "metadata": {},
   "source": [
    "# Bắt đầu crawl điểm của toàn bộ thí sinh"
   ]
  },
  {
   "cell_type": "code",
   "execution_count": null,
   "id": "saving-youth",
   "metadata": {},
   "outputs": [],
   "source": [
    "for i in range(1, 23565):\n",
    "    print(\"Thi sinh thu:\", i)\n",
    "    x = f'{i}'\n",
    "    if len(x) == 1:\n",
    "        SBD = \"0300000\" + x\n",
    "    elif len(x) == 2:\n",
    "        SBD = \"030000\" + x\n",
    "    elif len(x) == 3:\n",
    "        SBD = \"03000\" + x\n",
    "    elif len(x) == 4:\n",
    "        SBD = \"0300\" + x\n",
    "    else:\n",
    "        SBD = \"030\" + x\n",
    "    txtSBD_ = driver.find_element(By.ID, \"txtkeyword\")\n",
    "    txtSBD_.send_keys(SBD)\n",
    "    txtSBD_.send_keys(Keys.ENTER)\n",
    "    sleep(0.25)\n",
    "    point_ = driver.find_elements(By.CLASS_NAME, \"point\")\n",
    "\n",
    "    try:\n",
    "        sbd_ = point[1].text\n",
    "        toan_ = point[2].text\n",
    "        van_ = point[3].text\n",
    "        ngoaingu_ = point[4].text\n",
    "        ly_ = point[5].text\n",
    "        hoa_ = point[6].text\n",
    "        sinh_ = point[7].text\n",
    "        su_ = point[8].text\n",
    "        dia_ = point[9].text\n",
    "        GDCD_ = point[10].text\n",
    "\n",
    "        str = f\"{sbd_}, {toan_}, {van_}, {ngoaingu_}, {ly_}, {hoa_}, {sinh_}, {su_}, {dia_}, {GDCD_}, \\n\"\n",
    "    except:\n",
    "        str = f\"{SBD}, \\n\"\n",
    "        \n",
    "    # Lưu điểm vào file 'diemthiHP.csv'\n",
    "    file.write(str)\n",
    "    \n",
    "    driver.find_element(By.ID, \"txtkeyword\").clear()"
   ]
  },
  {
   "cell_type": "code",
   "execution_count": 9,
   "id": "honey-hospital",
   "metadata": {},
   "outputs": [],
   "source": [
    "# Đóng trang web crawl điểm\n",
    "driver.close()\n",
    "\n",
    "# Đóng file\n",
    "file.close()"
   ]
  }
 ],
 "metadata": {
  "kernelspec": {
   "display_name": "Python 3",
   "language": "python",
   "name": "python3"
  },
  "language_info": {
   "codemirror_mode": {
    "name": "ipython",
    "version": 3
   },
   "file_extension": ".py",
   "mimetype": "text/x-python",
   "name": "python",
   "nbconvert_exporter": "python",
   "pygments_lexer": "ipython3",
   "version": "3.8.6"
  }
 },
 "nbformat": 4,
 "nbformat_minor": 5
}
