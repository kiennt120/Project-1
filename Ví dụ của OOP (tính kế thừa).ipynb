{
 "cells": [
  {
   "cell_type": "markdown",
   "id": "funky-excitement",
   "metadata": {},
   "source": [
    "# Define class A"
   ]
  },
  {
   "cell_type": "code",
   "execution_count": 1,
   "id": "possible-implement",
   "metadata": {},
   "outputs": [],
   "source": [
    "class A:\n",
    "    nation = \"Viet Nam\"\n",
    "    def __init__(self, name, age, salary) -> None:\n",
    "        self.name = name\n",
    "        self.age = age\n",
    "        self.salary = salary\n",
    "\n",
    "    def printInfomation(self):\n",
    "        print(\"My name is\", self.name, \", my age is\", self.age, \"and my salary is\", self.salary)\n",
    "\n",
    "    def setSalary(self, salary):\n",
    "        self.salary = salary"
   ]
  },
  {
   "cell_type": "markdown",
   "id": "working-reconstruction",
   "metadata": {},
   "source": [
    "# Class B extend class A"
   ]
  },
  {
   "cell_type": "code",
   "execution_count": 2,
   "id": "blank-figure",
   "metadata": {},
   "outputs": [],
   "source": [
    "class B(A):\n",
    "    def __init__(self, name, age, salary, address) -> None:\n",
    "        super().__init__(name, age, salary)\n",
    "        self.address = address\n",
    "        \n",
    "#     overide method in A\n",
    "    def printInfomation(self):\n",
    "        print(\"My name is\", self.name, \", my age is\", self.age, \", my salary is\", self.salary, \"and my address is\", self.address)"
   ]
  },
  {
   "cell_type": "markdown",
   "id": "sapphire-airport",
   "metadata": {},
   "source": [
    "# Instance"
   ]
  },
  {
   "cell_type": "code",
   "execution_count": 3,
   "id": "plain-format",
   "metadata": {},
   "outputs": [
    {
     "name": "stdout",
     "output_type": "stream",
     "text": [
      "My name is Kien , my age is 20 , my salary is 2000 and my address is Hai Phong\n",
      "My name is Kien , my age is 20 , my salary is 1000 and my address is Hai Phong\n"
     ]
    }
   ],
   "source": [
    "k = B(\"Kien\", 20, 2000, \"Hai Phong\")\n",
    "k.printInfomation()\n",
    "k.setSalary(1000)\n",
    "k.printInfomation()"
   ]
  },
  {
   "cell_type": "markdown",
   "id": "blank-driving",
   "metadata": {},
   "source": [
    "# Done"
   ]
  }
 ],
 "metadata": {
  "kernelspec": {
   "display_name": "Python 3",
   "language": "python",
   "name": "python3"
  },
  "language_info": {
   "codemirror_mode": {
    "name": "ipython",
    "version": 3
   },
   "file_extension": ".py",
   "mimetype": "text/x-python",
   "name": "python",
   "nbconvert_exporter": "python",
   "pygments_lexer": "ipython3",
   "version": "3.8.6"
  }
 },
 "nbformat": 4,
 "nbformat_minor": 5
}
